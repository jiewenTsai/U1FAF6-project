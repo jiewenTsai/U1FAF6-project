{
  "nbformat": 4,
  "nbformat_minor": 0,
  "metadata": {
    "colab": {
      "provenance": [],
      "authorship_tag": "ABX9TyM46cHC5ggsBxUhF+1Es6o8",
      "include_colab_link": true
    },
    "kernelspec": {
      "name": "ir",
      "display_name": "R"
    },
    "language_info": {
      "name": "R"
    }
  },
  "cells": [
    {
      "cell_type": "markdown",
      "metadata": {
        "id": "view-in-github",
        "colab_type": "text"
      },
      "source": [
        "<a href=\"https://colab.research.google.com/github/jiewenTsai/jelly/blob/main/docs/2025_09_01_R_Performance_Benchmark_Results.ipynb\" target=\"_parent\"><img src=\"https://colab.research.google.com/assets/colab-badge.svg\" alt=\"Open In Colab\"/></a>"
      ]
    },
    {
      "cell_type": "markdown",
      "source": [
        "# R Performance Benchmark Results\n",
        "\n",
        "- JW\n",
        "- 2025-09-01\n",
        "\n",
        "這是一個長期的比較結果。\n",
        "\n",
        "\n",
        "## Performance Summary (Sorted by Speed)\n",
        "\n",
        "| Rank | Device | Time (min) | Time (sec) | Speed vs M2 Mini | CPU | RAM | OS | R Version |\n",
        "|------|--------|------------|------------|------------------|-----|-----|----|-----------|\n",
        "| 1 | **Mac mini M4** | 0.563 | 33.8 | **0.75x** | M4 | 16 GB | macOS Sequoia 15.6.1 | R 4.5.1 |\n",
        "| 2 | MacBook Air M3 | 0.633 | 38.0 | 0.85x | M3 | 8 GB | macOS Ventura | R 4.4.0 |\n",
        "| 3 | **Mac mini M2** *(baseline)* | 0.748 | 44.9 | **1.00x** | M2 | 16 GB | macOS Ventura 13.3 | R 4.3.1 |\n",
        "| 4 | Intel i5-12400 (Ubuntu) | 1.068 | 64.1 | 1.43x | i5-12400 | 64 GB | Ubuntu 22.04.3 LTS | R 4.3.1 |\n",
        "| 5 | Intel i5-12400 (Windows) | 1.278 | 76.7 | 1.71x | i5-12400 | 64 GB | Windows 11 x64 | R 4.3.1 |\n",
        "| 6 | Intel i7-10700 (Windows) | 1.885 | 113.1 | 2.52x | i7-10700 2.90GHz | 16 GB | Windows 10 x64 | R 4.3.1 |\n",
        "| 7 | Intel i5-10500 (Windows) | 2.230 | 133.8 | 2.98x | i5-10500 3.10GHz | 16 GB | Windows 10 x64 | R 4.3.1 |\n",
        "| 8 | Google Colab | 2.868 | 172.1 | 3.83x | x86_64 | - | Ubuntu 22.04.4 LTS | R 4.5.1 |\n",
        "| 9 | MacBook Air (Intel) | 5.563 | 333.8 | 7.44x | Intel i5 1.6GHz | 8 GB | macOS Ventura 13.6 | R 4.3.1 |\n",
        "\n",
        "## Key Insights\n",
        "\n",
        "### 🏆 Top Performers\n",
        "- **Mac mini M4**: 25% faster than M2, best overall performance\n",
        "- **Apple Silicon dominance**: M4/M3/M2 占據前三名\n",
        "- **M3 vs M2**: 僅管 M3 只有 8GB RAM，仍比 M2 (16GB) 快 15%\n",
        "\n",
        "### 💻 Intel Performance\n",
        "- **Same CPU, different OS**: i5-12400 在 Ubuntu 比 Windows 快 20%\n",
        "- **RAM impact**: 64GB RAM 的 i5-12400 仍比 Apple Silicon 慢 43%+\n",
        "- **Older Intel**: i7-10700/i5-10500 明顯落後於新 i5-12400\n",
        "\n",
        "### 🐌 Slowest Systems\n",
        "- **Old Intel MacBook Air**: 比 M2 慢 7.4 倍\n",
        "- **Google Colab**: 免費但效能有限，比 M2 慢 3.8 倍\n",
        "\n",
        "### 🔍 Platform Observations\n",
        "- **macOS**: Apple Silicon 展現絕對優勢\n",
        "- **Linux vs Windows**: 相同硬體下 Ubuntu 比 Windows 快\n",
        "- **R Version**: 不同 R 版本對效能影響較小"
      ],
      "metadata": {
        "id": "6seQTyxZMBD2"
      }
    },
    {
      "cell_type": "markdown",
      "source": [
        "\n",
        "## Apple Silicon vs Intel 效能比較\n",
        "\n",
        "### M2 vs Intel i5-12400 (Ubuntu)\n",
        "\n",
        "M2 晶片的執行時間約為 12 代 i5 (Ubuntu) 的 **2/3**，具體來說 M2 大約需要 40 秒，而 Intel i5-12400 (Ubuntu) 則需要 60 秒，速率上可以提升約 30% 左右。\n",
        "\n",
        "當使用 cmdstanr 套件時，Apple Silicon 的優勢更加明顯。Intel 平台需要 12 秒的工作，在 Apple Silicon 上僅需 4 秒，幾乎可以提升 60%，展現了同樣模式下的顯著效能差異。\n",
        "\n",
        "## M4 效能測試 (2025-09-01)\n",
        "\n",
        "今天測試新的 **Mac mini M4**，結果令人驚艷。同樣的工作只用了 33.76 秒，這大約只花費當年 M2 的 3/4 的時間，比 M2 快了 25%。\n",
        "\n",
        "## ⚠️ 重要提醒：R 安裝方式的影響\n",
        "\n",
        "千萬注意，在蘋果系統上安裝 R 時，一定要從 CRAN 上去下載，千萬不要用 Homebrew。Homebrew 的版本可能會非常慢。例如，同樣 M3 的機器，使用 Homebrew 安裝的 R 需要 1.4 分鐘，但 CRAN 官方版本只需要 33.76 秒，效能差異高達 2.5 倍。\n",
        "\n",
        "這個差異主要是因為 Homebrew 版本缺乏針對 Apple Silicon 的優化，而 CRAN 官方版本則充分利用了硬體的性能特性。因此 macOS 用戶務必從 [CRAN](https://cran.r-project.org/) 下載官方版本。\n",
        "\n",
        "## 歷史對比：Raspberry Pi 4B 效能 (2023-10-06)\n",
        "\n",
        "2023-10-06 用 Raspberry Pi 4B 和 MacBook Air 比較同一段程式（Total graph size: 4131），Pi 4B 大約需要 109.98 秒，而 MacBook Air 只需 28.13 秒，相差大約 3.9 倍。\n",
        "\n",
        "進一步比較發現，Pi 4B 跟 M2 的速度大約相差 29.1 倍，和目前使用的 Ubuntu 系統相差約 20.4 倍。這意味著用 M2 跑 1 小時的工作量，用 Raspberry Pi 4B 要跑 30 小時才能完成。\n",
        "\n",
        "## 總結\n",
        "\n",
        "Apple Silicon 在 R 運算上展現壓倒性優勢，M4 更是持續提升效能，比 M2 再快 25%。安裝方式對效能影響極大，務必使用 CRAN 官方版本而非 Homebrew。cmdstanr 在 Apple Silicon 上有額外的效能加成，而 Raspberry Pi 雖然適合學習，但不適合大規模運算需求。"
      ],
      "metadata": {
        "id": "tZmrUMh4Xig0"
      }
    },
    {
      "cell_type": "markdown",
      "source": [
        "同樣跑下列這段程式，這是用 `jags` 測試，(`runjags`)\n",
        "這個模式的規模是 Total graph size: 5109\n",
        "74個樣本，\n",
        "\n",
        "```\n",
        "library(blavaan)\n",
        "library(runjags)\n",
        "library(lavaan)\n",
        "\n",
        "model <- '\n",
        "   # latent variable definitions\n",
        "     ind60 =~ x1 + x2 + x3\n",
        "     dem60 =~ y1 + y2 + y3 + y4\n",
        "     dem65 =~ y5 + y6 + y7 + y8\n",
        "   # regressions\n",
        "     dem60 ~ ind60\n",
        "     dem65 ~ ind60 + dem60\n",
        "   # residual covariances\n",
        "     y1 ~~ y5\n",
        "     y2 ~~ y4 + y6\n",
        "     y3 ~~ y7\n",
        "     y4 ~~ y8\n",
        "     y6 ~~ y8\n",
        "'\n",
        "\n",
        "sys_time <- Sys.time()\n",
        "fit <- bsem(model, data = PoliticalDemocracy, target = 'jags')\n",
        "Sys.time() - sys_time\n",
        "```"
      ],
      "metadata": {
        "id": "xfiPs-x6X3gX"
      }
    },
    {
      "cell_type": "markdown",
      "source": [
        "## 以下這是用 colab 的範例"
      ],
      "metadata": {
        "id": "ve1jCHi2W4s7"
      }
    },
    {
      "cell_type": "code",
      "execution_count": 5,
      "metadata": {
        "id": "bsnZ15WZL82o"
      },
      "outputs": [],
      "source": [
        "system(\"sudo apt update && sudo apt upgrade\")\n",
        "system(\"sudo apt install jags\")\n",
        "system(\"sudo apt install r-cran-runjags\")\n",
        "#system(\"sudo apt install r-cran-lavaan\")\n",
        "system(\"sudo apt install r-cran-blavaan\")"
      ]
    },
    {
      "cell_type": "code",
      "source": [
        "install.packages(\"lavaan\") ## need lavaan > 0.6-18"
      ],
      "metadata": {
        "colab": {
          "base_uri": "https://localhost:8080/"
        },
        "id": "VcgG0p7GOGKR",
        "outputId": "0d241c4e-bd39-4a00-e29d-c44c47539e62"
      },
      "execution_count": 13,
      "outputs": [
        {
          "output_type": "stream",
          "name": "stderr",
          "text": [
            "Installing package into ‘/usr/local/lib/R/site-library’\n",
            "(as ‘lib’ is unspecified)\n",
            "\n",
            "also installing the dependency ‘quadprog’\n",
            "\n",
            "\n"
          ]
        }
      ]
    },
    {
      "cell_type": "code",
      "source": [
        "installed.packages()[\"lavaan\", \"Version\"]"
      ],
      "metadata": {
        "colab": {
          "base_uri": "https://localhost:8080/",
          "height": 34
        },
        "id": "a4RmL1ycOrc3",
        "outputId": "908cace6-0362-4614-e1c1-fe4ecaa1f107"
      },
      "execution_count": 14,
      "outputs": [
        {
          "output_type": "display_data",
          "data": {
            "text/html": [
              "'0.6-19'"
            ],
            "text/markdown": "'0.6-19'",
            "text/latex": "'0.6-19'",
            "text/plain": [
              "[1] \"0.6-19\""
            ]
          },
          "metadata": {}
        }
      ]
    },
    {
      "cell_type": "code",
      "source": [
        "system(\"sudo apt install r-cran-blavaan\")"
      ],
      "metadata": {
        "id": "MZpMTzEuO62n"
      },
      "execution_count": 15,
      "outputs": []
    },
    {
      "cell_type": "code",
      "source": [
        "library(blavaan)\n",
        "library(runjags)\n",
        "library(lavaan)"
      ],
      "metadata": {
        "colab": {
          "base_uri": "https://localhost:8080/"
        },
        "id": "WbRJ02slMMAo",
        "outputId": "47b10c9d-5c0b-4e28-c163-a16de82f879e"
      },
      "execution_count": 16,
      "outputs": [
        {
          "output_type": "stream",
          "name": "stderr",
          "text": [
            "This is blavaan 0.5-8\n",
            "\n",
            "On multicore systems, we suggest use of future::plan(\"multicore\") or\n",
            "  future::plan(\"multisession\") for faster post-MCMC computations.\n",
            "\n",
            "This is lavaan 0.6-19\n",
            "lavaan is FREE software! Please report any bugs.\n",
            "\n"
          ]
        }
      ]
    },
    {
      "cell_type": "code",
      "source": [
        "model <- '\n",
        "   # latent variable definitions\n",
        "     ind60 =~ x1 + x2 + x3\n",
        "     dem60 =~ y1 + y2 + y3 + y4\n",
        "     dem65 =~ y5 + y6 + y7 + y8\n",
        "   # regressions\n",
        "     dem60 ~ ind60\n",
        "     dem65 ~ ind60 + dem60\n",
        "   # residual covariances\n",
        "     y1 ~~ y5\n",
        "     y2 ~~ y4 + y6\n",
        "     y3 ~~ y7\n",
        "     y4 ~~ y8\n",
        "     y6 ~~ y8\n",
        "'\n",
        "\n",
        "sys_time <- Sys.time()\n",
        "fit <- bsem(model, data = PoliticalDemocracy, target = 'jags')\n",
        "Sys.time() - sys_time"
      ],
      "metadata": {
        "colab": {
          "base_uri": "https://localhost:8080/",
          "height": 788
        },
        "id": "arGtK5RpMPyh",
        "outputId": "b4bdc11b-caff-47fd-ae6e-7732f63b7d27"
      },
      "execution_count": 17,
      "outputs": [
        {
          "output_type": "stream",
          "name": "stdout",
          "text": [
            "Calling the simulation...\n",
            "Welcome to JAGS 4.3.2 on Mon Sep  1 03:04:43 2025\n",
            "JAGS is free software and comes with ABSOLUTELY NO WARRANTY\n",
            "Loading module: basemod: ok\n",
            "Loading module: bugs: ok\n",
            ". . Reading data file data.txt\n",
            ". Compiling model graph\n",
            "   Resolving undeclared variables\n",
            "   Allocating nodes\n",
            "Graph information:\n",
            "   Observed stochastic nodes: 825\n",
            "   Unobserved stochastic nodes: 717\n",
            "   Total graph size: 5109\n",
            ". Reading parameter file inits1.txt\n",
            ". Reading parameter file inits2.txt\n",
            ". Reading parameter file inits3.txt\n",
            ". Initializing model\n",
            ". Adapting 1000\n",
            "-------------------------------------------------| 1000\n",
            "++++++++++++++++++++++++++++++++++++++++++++++++++ 100%\n",
            "Adaptation successful\n",
            ". Updating 4000\n",
            "-------------------------------------------------| 4000\n",
            "************************************************** 100%\n",
            ". . . . . . . . . . . . . . . . . . . . . . . . . . . . . . . . . . . . . . . . . . . . . . . . . . . . . . . . . . . . . . . . . . . . . . . . . . . Updating 10000\n",
            "-------------------------------------------------| 10000\n",
            "************************************************** 100%\n",
            ". . . . . . Updating 0\n",
            ". Deleting model\n",
            ". \n",
            "Simulation complete.  Reading coda files...\n",
            "Coda files loaded successfully\n",
            "Calculating summary statistics...\n",
            "Note: The monitored variables 'lambda[1,1,1]', 'lambda[4,2,1]',\n",
            "'lambda[8,3,1]', 'alpha[1,1,1]', 'alpha[2,1,1]', 'alpha[3,1,1]',\n",
            "'psi[4,4,1]', 'psi[5,5,1]', 'psi[6,6,1]', 'psi[7,7,1]', 'psi[8,8,1]'\n",
            "and 'psi[9,9,1]' appear to be non-stochastic; they will not be included\n",
            "in the convergence diagnostic\n",
            "Calculating the Gelman-Rubin statistic for 74 variables....\n",
            "Finished running the simulation\n",
            "Computing post-estimation metrics (including lvs if requested)...\n"
          ]
        },
        {
          "output_type": "display_data",
          "data": {
            "text/plain": [
              "Time difference of 2.867637 mins"
            ]
          },
          "metadata": {}
        }
      ]
    },
    {
      "cell_type": "code",
      "source": [
        "sessionInfo()"
      ],
      "metadata": {
        "colab": {
          "base_uri": "https://localhost:8080/",
          "height": 917
        },
        "id": "Nz7vJ22mQLe2",
        "outputId": "54cbfae1-6660-4e48-b147-a179d0a599a7"
      },
      "execution_count": 18,
      "outputs": [
        {
          "output_type": "display_data",
          "data": {
            "text/plain": [
              "R version 4.5.1 (2025-06-13)\n",
              "Platform: x86_64-pc-linux-gnu\n",
              "Running under: Ubuntu 22.04.4 LTS\n",
              "\n",
              "Matrix products: default\n",
              "BLAS:   /usr/lib/x86_64-linux-gnu/openblas-pthread/libblas.so.3 \n",
              "LAPACK: /usr/lib/x86_64-linux-gnu/openblas-pthread/libopenblasp-r0.3.20.so;  LAPACK version 3.10.0\n",
              "\n",
              "locale:\n",
              " [1] LC_CTYPE=en_US.UTF-8       LC_NUMERIC=C              \n",
              " [3] LC_TIME=en_US.UTF-8        LC_COLLATE=en_US.UTF-8    \n",
              " [5] LC_MONETARY=en_US.UTF-8    LC_MESSAGES=en_US.UTF-8   \n",
              " [7] LC_PAPER=en_US.UTF-8       LC_NAME=C                 \n",
              " [9] LC_ADDRESS=C               LC_TELEPHONE=C            \n",
              "[11] LC_MEASUREMENT=en_US.UTF-8 LC_IDENTIFICATION=C       \n",
              "\n",
              "time zone: Etc/UTC\n",
              "tzcode source: system (glibc)\n",
              "\n",
              "attached base packages:\n",
              "[1] stats     graphics  grDevices utils     datasets  methods   base     \n",
              "\n",
              "other attached packages:\n",
              "[1] future_1.67.0   lavaan_0.6-19   runjags_2.2.2-5 blavaan_0.5-8  \n",
              "[5] Rcpp_1.1.0     \n",
              "\n",
              "loaded via a namespace (and not attached):\n",
              " [1] sandwich_3.1-1        generics_0.1.4        lattice_0.22-7       \n",
              " [4] listenv_0.9.1         digest_0.6.37         magrittr_2.0.3       \n",
              " [7] evaluate_1.0.5        grid_4.5.1            RColorBrewer_1.1-3   \n",
              "[10] pbdZMQ_0.3-14         CompQuadForm_1.4.4    mvtnorm_1.3-3        \n",
              "[13] fastmap_1.2.0         Matrix_1.7-4          jsonlite_2.0.0       \n",
              "[16] pkgbuild_1.4.8        gridExtra_2.3         QuickJSR_1.8.0       \n",
              "[19] scales_1.4.0          pbivnorm_0.6.0        codetools_0.2-20     \n",
              "[22] textshaping_1.0.1     mnormt_2.1.1          cli_3.6.5            \n",
              "[25] rlang_1.1.6           crayon_1.5.3          parallelly_1.45.1    \n",
              "[28] future.apply_1.20.0   base64enc_0.1-3       repr_1.1.7           \n",
              "[31] StanHeaders_2.32.10   parallel_4.5.1        tools_4.5.1          \n",
              "[34] rstan_2.32.7          inline_0.3.21         uuid_1.2-1           \n",
              "[37] rstantools_2.4.0      coda_0.19-4.1         dplyr_1.1.4          \n",
              "[40] ggplot2_3.5.2         tmvnsim_1.0-2         globals_0.18.0       \n",
              "[43] IRdisplay_1.1         vctrs_0.6.5           R6_2.6.1             \n",
              "[46] matrixStats_1.5.0     stats4_4.5.1          zoo_1.8-14           \n",
              "[49] lifecycle_1.0.4       ragg_1.4.0            pkgconfig_2.0.3      \n",
              "[52] RcppParallel_5.1.11-1 pillar_1.11.0         gtable_0.3.6         \n",
              "[55] loo_2.8.0             glue_1.8.0            systemfonts_1.2.3    \n",
              "[58] tibble_3.3.0          tidyselect_1.2.1      IRkernel_1.3.2       \n",
              "[61] bayesplot_1.13.0      farver_2.1.2          htmltools_0.5.8.1    \n",
              "[64] compiler_4.5.1        quadprog_1.5-8        nonnest2_0.5-8       "
            ]
          },
          "metadata": {}
        }
      ]
    },
    {
      "cell_type": "code",
      "source": [],
      "metadata": {
        "id": "NMqHLr1rRNV1"
      },
      "execution_count": null,
      "outputs": []
    }
  ]
}